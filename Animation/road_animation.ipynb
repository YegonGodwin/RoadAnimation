{
 "cells": [
  {
   "cell_type": "markdown",
   "id": "f61e4644",
   "metadata": {},
   "source": [
    "<h2 style=\"color: red;\">OpenGL Animation</h2>"
   ]
  },
  {
   "cell_type": "code",
   "execution_count": 4,
   "id": "92b26b94",
   "metadata": {},
   "outputs": [],
   "source": [
    "import pygame\n",
    "from pygame.locals import *\n",
    "from OpenGL.GL import *\n",
    "from OpenGL.GLU import *\n",
    "from math import cos, sin\n",
    "\n",
    "# Initialize Pygame and set up OpenGL display\n",
    "pygame.init()\n",
    "width, height = 800, 600\n",
    "pygame.display.set_mode((width, height), DOUBLEBUF | OPENGL)\n",
    "\n",
    "# Set up orthographic projection (2D coordinates: 0 to 100)\n",
    "glMatrixMode(GL_PROJECTION)\n",
    "glLoadIdentity()\n",
    "gluOrtho2D(0, 100, 0, 100)\n",
    "glMatrixMode(GL_MODELVIEW)\n",
    "glLoadIdentity()\n",
    "\n",
    "# Function to draw the road\n",
    "def draw_road():\n",
    "    glBegin(GL_QUADS)\n",
    "    glColor3f(0.5, 0.5, 0.5)  # Gray\n",
    "    glVertex2f(0, 40)         # Bottom-left\n",
    "    glVertex2f(100, 40)       # Bottom-right\n",
    "    glVertex2f(100, 60)       # Top-right\n",
    "    glVertex2f(0, 60)         # Top-left\n",
    "    glEnd()\n",
    "\n",
    "# Function to draw the zebra crossing at x=50\n",
    "def draw_zebra_crossing():\n",
    "    glColor3f(1, 1, 1)  # White\n",
    "    for i in range(5):  # 5 stripes\n",
    "        x_start = 45 + i * 2\n",
    "        glBegin(GL_QUADS)\n",
    "        glVertex2f(x_start, 40)\n",
    "        glVertex2f(x_start + 1, 40)\n",
    "        glVertex2f(x_start + 1, 60)\n",
    "        glVertex2f(x_start, 60)\n",
    "        glEnd()\n",
    "\n",
    "# Function to draw a car with specified color\n",
    "def draw_car(x, y, color):\n",
    "    glColor3f(*color)\n",
    "    glBegin(GL_QUADS)\n",
    "    glVertex2f(x - 2.5, y - 1)  # 5x2 units\n",
    "    glVertex2f(x + 2.5, y - 1)\n",
    "    glVertex2f(x + 2.5, y + 1)\n",
    "    glVertex2f(x - 2.5, y + 1)\n",
    "    glEnd()\n",
    "\n",
    "# Function to draw a person (blue square)\n",
    "def draw_person(x, y):\n",
    "    glColor3f(0, 0, 1)  # Blue\n",
    "    glBegin(GL_QUADS)\n",
    "    glVertex2f(x - 0.5, y - 0.5)  # 1x1 unit\n",
    "    glVertex2f(x + 0.5, y - 0.5)\n",
    "    glVertex2f(x + 0.5, y + 0.5)\n",
    "    glVertex2f(x - 0.5, y + 0.5)\n",
    "    glEnd()\n",
    "\n",
    "# Function to draw a pedestrian crossing sign (yellow triangle)\n",
    "def draw_triangle(x, y):\n",
    "    glBegin(GL_TRIANGLES)\n",
    "    glColor3f(1, 1, 0)  # Yellow\n",
    "    glVertex2f(x - 2, y - 2)\n",
    "    glVertex2f(x + 2, y - 2)\n",
    "    glVertex2f(x, y + 2)\n",
    "    glEnd()\n",
    "\n",
    "# Function to draw a speed limit sign (red circle)\n",
    "def draw_circle(cx, cy, r, num_segments=20):\n",
    "    glBegin(GL_TRIANGLE_FAN)\n",
    "    glColor3f(1, 0, 0)  # Red\n",
    "    glVertex2f(cx, cy)\n",
    "    for i in range(num_segments + 1):\n",
    "        theta = 2.0 * 3.1415926 * i / num_segments\n",
    "        dx = r * cos(theta)\n",
    "        dy = r * sin(theta)\n",
    "        glVertex2f(cx + dx, cy + dy)\n",
    "    glEnd()\n",
    "\n",
    "# Function to draw a symbol in top right (blue square)\n",
    "def draw_square(x, y, size):\n",
    "    glBegin(GL_QUADS)\n",
    "    glColor3f(0, 0, 1)  # Blue\n",
    "    glVertex2f(x - size, y - size)\n",
    "    glVertex2f(x + size, y - size)\n",
    "    glVertex2f(x + size, y + size)\n",
    "    glVertex2f(x - size, y + size)\n",
    "    glEnd()\n",
    "\n",
    "# Initial setup\n",
    "cars = [\n",
    "    {'x': 0, 'color': (1, 0, 0)},    # Red\n",
    "    {'x': 20, 'color': (0, 1, 0)},   # Green\n",
    "    {'x': 40, 'color': (0, 0, 1)},   # Blue\n",
    "    {'x': 60, 'color': (1, 1, 0)},   # Yellow\n",
    "    {'x': 80, 'color': (1, 0, 1)}    # Magenta\n",
    "]\n",
    "car_speed = 0.2  # Reduced speed\n",
    "\n",
    "persons = [\n",
    "    {'y': 0, 'start_frame': 100},\n",
    "    {'y': 0, 'start_frame': 150},\n",
    "    {'y': 0, 'start_frame': 200}\n",
    "]\n",
    "person_speed = 0.5\n",
    "\n",
    "frame_count = 0\n",
    "clock = pygame.time.Clock()\n",
    "\n",
    "# Main loop\n",
    "running = True\n",
    "while running:\n",
    "    for event in pygame.event.get():\n",
    "        if event.type == pygame.QUIT:\n",
    "            running = False\n",
    "\n",
    "    glClear(GL_COLOR_BUFFER_BIT | GL_DEPTH_BUFFER_BIT)\n",
    "\n",
    "    # Draw static elements\n",
    "    draw_road()\n",
    "    draw_zebra_crossing()\n",
    "    draw_triangle(10, 70)    # Pedestrian sign\n",
    "    draw_circle(90, 70, 2)   # Speed limit sign\n",
    "    draw_square(95, 95, 2)   # Top right symbol\n",
    "\n",
    "    # Draw and update cars\n",
    "    for car in cars:\n",
    "        draw_car(car['x'], 50, car['color'])\n",
    "        car['x'] += car_speed\n",
    "        if car['x'] > 100:\n",
    "            car['x'] -= 100\n",
    "\n",
    "    # Draw and update persons\n",
    "    for person in persons:\n",
    "        if frame_count > person['start_frame']:\n",
    "            if person['y'] < 100:\n",
    "                person['y'] += person_speed\n",
    "            draw_person(50, person['y'])\n",
    "\n",
    "    frame_count += 1\n",
    "    pygame.display.flip()\n",
    "    clock.tick(60)  # 60 FPS\n",
    "\n",
    "pygame.quit()"
   ]
  },
  {
   "cell_type": "code",
   "execution_count": 9,
   "id": "6562f514",
   "metadata": {},
   "outputs": [
    {
     "name": "stdout",
     "output_type": "stream",
     "text": [
      "^C\n"
     ]
    }
   ],
   "source": [
    "!gh auth login"
   ]
  },
  {
   "cell_type": "code",
   "execution_count": 10,
   "id": "adfa6fbd",
   "metadata": {},
   "outputs": [
    {
     "name": "stderr",
     "output_type": "stream",
     "text": [
      "git: 'repo' is not a git command. See 'git --help'.\n",
      "\n",
      "The most similar commands are\n",
      "\tgrep\n",
      "\treflog\n",
      "\trefs\n",
      "\tremote\n",
      "\trepack\n",
      "\treplay\n",
      "\n",
      "\u001b[0;33m!\u001b[0m First copy your one-time code: \u001b[0;1;39m8B95-700B\u001b[0m\n",
      "\u001b[0;1;39mOpen this URL\u001b[0m to continue in your web browser: https://github.com/login/device\n",
      "failed to authenticate via web browser: context deadline exceeded\n"
     ]
    }
   ],
   "source": [
    "!git repo create RoadAnimation --public"
   ]
  },
  {
   "cell_type": "code",
   "execution_count": 11,
   "id": "53322f6a",
   "metadata": {},
   "outputs": [
    {
     "name": "stdout",
     "output_type": "stream",
     "text": [
      "C:\\Users\\Godwin\\OpenGL\n"
     ]
    }
   ],
   "source": [
    "import os\n",
    "print(os.getcwd())"
   ]
  },
  {
   "cell_type": "code",
   "execution_count": 12,
   "id": "6da7a76b",
   "metadata": {},
   "outputs": [
    {
     "name": "stdout",
     "output_type": "stream",
     "text": [
      "C:\\Users\\Godwin\\OpenGL\n"
     ]
    }
   ],
   "source": [
    "cd C:/Users/Godwin/OpenGL"
   ]
  },
  {
   "cell_type": "code",
   "execution_count": 14,
   "id": "e3b532f0",
   "metadata": {},
   "outputs": [
    {
     "name": "stderr",
     "output_type": "stream",
     "text": [
      "fatal: destination path 'RoadAnimation' already exists and is not an empty directory.\n"
     ]
    }
   ],
   "source": [
    "!git clone https://github.com/YegonGodwin/RoadAnimation"
   ]
  },
  {
   "cell_type": "code",
   "execution_count": 15,
   "id": "643997da",
   "metadata": {},
   "outputs": [
    {
     "name": "stdout",
     "output_type": "stream",
     "text": [
      "C:\\Users\\Godwin\\OpenGL\\RoadAnimation\n"
     ]
    }
   ],
   "source": [
    "cd RoadAnimation"
   ]
  },
  {
   "cell_type": "code",
   "execution_count": 33,
   "id": "82881f6f",
   "metadata": {},
   "outputs": [
    {
     "name": "stderr",
     "output_type": "stream",
     "text": [
      "A subdirectory or file Animation already exists.\n"
     ]
    }
   ],
   "source": [
    "mkdir Animation"
   ]
  },
  {
   "cell_type": "code",
   "execution_count": 41,
   "id": "b28066ef",
   "metadata": {},
   "outputs": [
    {
     "name": "stdout",
     "output_type": "stream",
     "text": [
      " Volume in drive C has no label.\n",
      " Volume Serial Number is 4864-2728\n",
      "\n",
      " Directory of C:\\Users\\Godwin\\OpenGL\\RoadAnimation\\Animation\n",
      "\n",
      "23/02/2025  23:10    <DIR>          .\n",
      "23/02/2025  23:10    <DIR>          ..\n",
      "               0 File(s)              0 bytes\n",
      "               2 Dir(s)   7,329,079,296 bytes free\n"
     ]
    }
   ],
   "source": [
    "!dir C:\\Users\\Godwin\\OpenGL\\RoadAnimation\\Animation"
   ]
  },
  {
   "cell_type": "code",
   "execution_count": 31,
   "id": "6e6a123e",
   "metadata": {},
   "outputs": [
    {
     "name": "stdout",
     "output_type": "stream",
     "text": [
      " Volume in drive C has no label.\n",
      " Volume Serial Number is 4864-2728\n",
      "\n",
      " Directory of C:\\Users\\Godwin\\OpenGL\\RoadAnimation\n",
      "\n",
      "23/02/2025  23:10    <DIR>          .\n",
      "23/02/2025  23:14    <DIR>          ..\n",
      "23/02/2025  23:10    <DIR>          Animation\n",
      "23/02/2025  23:01                15 README.md\n",
      "               1 File(s)             15 bytes\n",
      "               3 Dir(s)   7,338,934,272 bytes free\n"
     ]
    }
   ],
   "source": [
    "!dir "
   ]
  }
 ],
 "metadata": {
  "kernelspec": {
   "display_name": "Python 3 (ipykernel)",
   "language": "python",
   "name": "python3"
  },
  "language_info": {
   "codemirror_mode": {
    "name": "ipython",
    "version": 3
   },
   "file_extension": ".py",
   "mimetype": "text/x-python",
   "name": "python",
   "nbconvert_exporter": "python",
   "pygments_lexer": "ipython3",
   "version": "3.11.5"
  }
 },
 "nbformat": 4,
 "nbformat_minor": 5
}
